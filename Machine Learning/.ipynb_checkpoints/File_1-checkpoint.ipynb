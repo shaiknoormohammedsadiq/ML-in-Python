{
 "cells": [
  {
   "cell_type": "markdown",
   "metadata": {},
   "source": [
    "- functionality of create_record() is:\n",
    "- Prompt info from Student:\n",
    "- Name,rollno,mailid,mobileno,\n",
    "- marks obtained in internal exam,\n",
    "- total internal marks(40),\n",
    "- marks obtained in external exam,\n",
    "- total external marks(60)\n",
    "\n",
    "- getAllrecords()"
   ]
  },
  {
   "cell_type": "code",
   "execution_count": 12,
   "metadata": {},
   "outputs": [
    {
     "name": "stdout",
     "output_type": "stream",
     "text": [
      "Enter Name:ydfg\n",
      "Enter rollno:564\n",
      "Enter a mailid:abcd@gmail.com\n",
      "Enter mobile number:8956231047\n",
      "Marks obtained in internal exam:89\n",
      "Enter Total inter marks:45\n",
      "Marks obtained in external exam:12\n",
      "Enter Total external marks:56\n",
      "Done...\n"
     ]
    }
   ],
   "source": [
    "import re\n",
    "def isNameValid(name):\n",
    "    if re.search('^[a-zA-Z ]+$',name):\n",
    "        return True\n",
    "    else:\n",
    "        return False\n",
    "\n",
    "# print(isNameValid('abdul'))\n",
    "# print(isNameValid('Shaik Abdul'))\n",
    "# print(isNameValid('Shaik 123456'))\n",
    "def isMobileValid(phoneno):\n",
    "    if re.search('^[6-9][0-9]{9}$',phoneno):\n",
    "        return True\n",
    "    else:\n",
    "        return False\n",
    "\n",
    "# print(isMobileValid('1234567890'))\n",
    "# print(isMobileValid('7234567890'))\n",
    "# print(isMobileValid('723456789078'))\n",
    "def isMailValid(email):\n",
    "    if re.search('@gmail.com$',email):\n",
    "        return True\n",
    "    return False\n",
    "# print(isMailValid('abdul@gmail.com'))\n",
    "# print(isMailValid('abdul@gmail.in'))\n",
    "def create_Record(name,rollno,mailid,phoneno,internal_marks,tIMarks,external_marks,tEMarks):\n",
    "    # write ur code here\n",
    "    #print(name,rollno,mailid,phoneno,internal_marks,tIMarks,external_marks,tEMarks)\n",
    "    \n",
    "    \n",
    "    \n",
    "    if (isNameValid(name) and isMobileValid(phoneno) and isMailValid(mailid)):\n",
    "        path = 'Files/studentmarks.txt'\n",
    "        with open(path,'a') as fh:\n",
    "            txt = name+'\\t'+rollno+'\\t'+mailid+'\\t'+phoneno+'\\t'+internal_marks+'\\t'+tIMarks+'\\t'+external_marks+'\\t'+tEMarks+\"\\n\"\n",
    "            fh.write(txt)\n",
    "        print(\"Done...\")\n",
    "        \n",
    "        \n",
    "        \n",
    "        \n",
    "        \n",
    "\n",
    "    \n",
    "    \n",
    "name = input('Enter Name:')\n",
    "rollno = input('Enter rollno:')\n",
    "mailid = input(\"Enter a mailid:\")\n",
    "phoneno = input(\"Enter mobile number:\")\n",
    "internal_marks = input(\"Marks obtained in internal exam:\")\n",
    "tIMarks = input(\"Enter Total inter marks:\")\n",
    "external_marks = input(\"Marks obtained in external exam:\")\n",
    "tEMarks = input(\"Enter Total external marks:\")\n",
    "\n",
    "create_Record(name,rollno,mailid,phoneno,internal_marks,tIMarks,external_marks,tEMarks)"
   ]
  },
  {
   "cell_type": "code",
   "execution_count": 1,
   "metadata": {},
   "outputs": [],
   "source": [
    "import pandas as pd"
   ]
  },
  {
   "cell_type": "code",
   "execution_count": 3,
   "metadata": {},
   "outputs": [
    {
     "data": {
      "text/plain": [
       "a    1\n",
       "b    2\n",
       "c    3\n",
       "d    4\n",
       "e    5\n",
       "dtype: int64"
      ]
     },
     "execution_count": 3,
     "metadata": {},
     "output_type": "execute_result"
    }
   ],
   "source": [
    "a = [1,2,3,4,5]\n",
    "s = pd.Series(a,index=['a','b','c','d','e'])\n",
    "s"
   ]
  },
  {
   "cell_type": "code",
   "execution_count": 4,
   "metadata": {},
   "outputs": [
    {
     "data": {
      "text/plain": [
       "1"
      ]
     },
     "execution_count": 4,
     "metadata": {},
     "output_type": "execute_result"
    }
   ],
   "source": [
    "s[0]"
   ]
  },
  {
   "cell_type": "code",
   "execution_count": 5,
   "metadata": {},
   "outputs": [
    {
     "data": {
      "text/plain": [
       "1"
      ]
     },
     "execution_count": 5,
     "metadata": {},
     "output_type": "execute_result"
    }
   ],
   "source": [
    "s['a']"
   ]
  },
  {
   "cell_type": "code",
   "execution_count": 7,
   "metadata": {},
   "outputs": [
    {
     "data": {
      "text/plain": [
       "1"
      ]
     },
     "execution_count": 7,
     "metadata": {},
     "output_type": "execute_result"
    }
   ],
   "source": [
    "s.loc['a']"
   ]
  },
  {
   "cell_type": "code",
   "execution_count": 8,
   "metadata": {},
   "outputs": [
    {
     "data": {
      "text/plain": [
       "2"
      ]
     },
     "execution_count": 8,
     "metadata": {},
     "output_type": "execute_result"
    }
   ],
   "source": [
    "s.iloc[1]"
   ]
  },
  {
   "cell_type": "code",
   "execution_count": 10,
   "metadata": {},
   "outputs": [
    {
     "data": {
      "text/plain": [
       "3"
      ]
     },
     "execution_count": 10,
     "metadata": {},
     "output_type": "execute_result"
    }
   ],
   "source": [
    "s.iloc[2]"
   ]
  },
  {
   "cell_type": "code",
   "execution_count": null,
   "metadata": {},
   "outputs": [],
   "source": []
  }
 ],
 "metadata": {
  "kernelspec": {
   "display_name": "Python 3",
   "language": "python",
   "name": "python3"
  },
  "language_info": {
   "codemirror_mode": {
    "name": "ipython",
    "version": 3
   },
   "file_extension": ".py",
   "mimetype": "text/x-python",
   "name": "python",
   "nbconvert_exporter": "python",
   "pygments_lexer": "ipython3",
   "version": "3.7.6"
  }
 },
 "nbformat": 4,
 "nbformat_minor": 2
}
