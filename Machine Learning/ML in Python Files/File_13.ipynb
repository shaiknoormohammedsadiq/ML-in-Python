{
 "cells": [
  {
   "cell_type": "markdown",
   "metadata": {},
   "source": [
    "## Machine Learning\n",
    "Data Vs Information\n",
    "Data- it a lorge amount\n",
    "Ex : ur college data\n",
    "info- small amount we will access info from lorge data\n",
    "\n",
    "## types of machine learning\n",
    "- Supervised Learning\n",
    "- Unsupervised Learning\n",
    "- ReInforcement Learning\n",
    "\n",
    "### Supervised Learning:\n",
    "- raw data is Existed\n",
    "- raw data may be labled or unlabled\n",
    "- here we know waht is input and what is output\n",
    "#### based on data we can divide Supervised Learning\n",
    "- Classification\n",
    "    - when the data is labled we can apply these technics \n",
    "- Regression\n",
    "     - when the data is unlabled then we can use regression technics.\n",
    "#### Classification:\n",
    "- Logistic \n",
    "- decision tree\n",
    "- random forest\n",
    "- Super Vector Model\n",
    "\n",
    "#### Regression:\n",
    "- linear regression\n",
    "- polynomial regression\n",
    "- lasso\n",
    "- ridgo\n",
    "- Elasticnet \n",
    "\n",
    "### Unsupervised Learning\n",
    "- there is data but we dont know what is input and output\n",
    "- for that it categorize these data into clusters\n",
    "### we have 2 type\n",
    "- clustering \n",
    "- association\n",
    "### Reinforcement(AI)\n",
    "- system can learn based on expeeriance\n",
    "     \n",
    "### Procedure to apply models\n",
    "- load the data or dataset\n",
    "- findout features(X) and Target(Y)\n",
    "- apply train and split for trainig and testing\n",
    "- we have to check data is fit or not for a specific model, if data is not fit then u can aplly fit_transform to fit data\n",
    "- we can aplly our model for predicting\n",
    "- we can check accuracy rate(evaluate)\n",
    "- then ae can deploy out model"
   ]
  },
  {
   "cell_type": "code",
   "execution_count": null,
   "metadata": {},
   "outputs": [],
   "source": []
  }
 ],
 "metadata": {
  "kernelspec": {
   "display_name": "Python 3",
   "language": "python",
   "name": "python3"
  },
  "language_info": {
   "codemirror_mode": {
    "name": "ipython",
    "version": 3
   },
   "file_extension": ".py",
   "mimetype": "text/x-python",
   "name": "python",
   "nbconvert_exporter": "python",
   "pygments_lexer": "ipython3",
   "version": "3.7.3"
  }
 },
 "nbformat": 4,
 "nbformat_minor": 2
}
